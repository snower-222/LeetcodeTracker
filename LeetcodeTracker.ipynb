{
  "nbformat": 4,
  "nbformat_minor": 0,
  "metadata": {
    "colab": {
      "provenance": []
    },
    "kernelspec": {
      "name": "python3",
      "display_name": "Python 3"
    },
    "language_info": {
      "name": "python"
    }
  },
  "cells": [
    {
      "cell_type": "markdown",
      "source": [
        "# 使用步骤\n",
        "\n",
        "\n",
        "1.  找到“导入配置”部分的NOTION_TOKEN和DATABASE_ID，引号内填写自己的token和id\n",
        "2.  点击上方“全部运行”\n",
        "3. 按照提示输入想插入notion的字段\n",
        "3.  代码跑到最后一part会提示输入url，将力扣中文站的题目链接直接贴过来即可\n",
        "\n",
        "\n",
        "\n",
        "\n",
        "\n"
      ],
      "metadata": {
        "id": "ePIGB_NOb3X_"
      }
    },
    {
      "cell_type": "markdown",
      "source": [
        "# 一、导入"
      ],
      "metadata": {
        "id": "9uXh52dBbzdH"
      }
    },
    {
      "cell_type": "code",
      "execution_count": null,
      "metadata": {
        "id": "k7oTKkgDxo28"
      },
      "outputs": [],
      "source": [
        "!pip install notion-client requests"
      ]
    },
    {
      "cell_type": "code",
      "source": [
        "import requests\n",
        "import json\n",
        "from notion_client import Client\n",
        "from datetime import datetime\n",
        "from urllib.parse import urlparse\n",
        "from bs4 import BeautifulSoup\n",
        "\n",
        "NOTION_TOKEN = \"\"\n",
        "DATABASE_ID = \"\"\n",
        "\n",
        "notion = Client(auth=NOTION_TOKEN)"
      ],
      "metadata": {
        "id": "u2EqMrLObE6K"
      },
      "execution_count": null,
      "outputs": []
    },
    {
      "cell_type": "markdown",
      "source": [
        "# 二、GraphQL 提取LeetCode中文站信息"
      ],
      "metadata": {
        "id": "XHFU_8pQbJTK"
      }
    },
    {
      "cell_type": "code",
      "source": [
        "# 从力扣url中精准提取slug\n",
        "def extract_slug(url):\n",
        "    path = urlparse(url).path\n",
        "    parts = [p for p in path.split('/') if p]\n",
        "    if 'problems' in parts:\n",
        "        idx = parts.index('problems')\n",
        "        if idx + 1 < len(parts):\n",
        "            return parts[idx + 1]\n",
        "    raise ValueError(f\"未能从 URL 提取 slug: {url}\")\n",
        "\n",
        "# 入参是完整url，提取信息\n",
        "def extract_leetcode_info_cn(url):\n",
        "    slug = extract_slug(url)\n",
        "    print(f\"解析出的slug:{slug}\")\n",
        "\n",
        "    graphql_url = 'https://leetcode.cn/graphql/' # GraphQL API\n",
        "    # HTTP 请求头\n",
        "    headers = {\n",
        "        'Content-Type': 'application/json',\n",
        "        'Referer': f'https://leetcode.cn/problems/{slug}/description/',\n",
        "        'User-Agent': 'Mozilla/5.0'\n",
        "    }\n",
        "\n",
        "    # 查询语句\n",
        "    query = '''\n",
        "    query questionData($titleSlug: String!) {\n",
        "      question(titleSlug: $titleSlug) {\n",
        "        questionId\n",
        "        title\n",
        "        translatedTitle\n",
        "        difficulty\n",
        "        translatedContent\n",
        "        topicTags{\n",
        "          name\n",
        "          slug\n",
        "        }\n",
        "      }\n",
        "    }\n",
        "    '''\n",
        "\n",
        "    variables = {\"titleSlug\": slug}\n",
        "    res = requests.post(graphql_url, json={\"query\": query, \"variables\": variables}, headers=headers)\n",
        "    res.raise_for_status()\n",
        "\n",
        "    data = res.json()\n",
        "\n",
        "    q = data['data']['question']\n",
        "\n",
        "    if not q:\n",
        "        raise ValueError(f\"题目未找到，检查 URL 和 slug: {slug}\")\n",
        "\n",
        "    topics = [tag['name'] for tag in q['topicTags']]\n",
        "    return {\n",
        "        \"name\": q[\"translatedTitle\"],\n",
        "        \"number\": int(q[\"questionId\"]),\n",
        "        \"difficulty\": q[\"difficulty\"].lower(),\n",
        "        \"description\": q[\"translatedContent\"],\n",
        "        \"slug\": slug,\n",
        "        \"url\": f\"https://leetcode.cn/problems/{slug}/description/\",\n",
        "        \"tags\": topics\n",
        "    }"
      ],
      "metadata": {
        "id": "IIgLADPnyCt8"
      },
      "execution_count": null,
      "outputs": []
    },
    {
      "cell_type": "markdown",
      "source": [
        "# 三、html题目描述格式转换"
      ],
      "metadata": {
        "id": "w18_hTybrfdM"
      }
    },
    {
      "cell_type": "code",
      "source": [
        "# 将 HTML 描述转换为Notion children 块列表\n",
        "def html_to_notion_blocks(html):\n",
        "  soup = BeautifulSoup(html, \"html.parser\")\n",
        "  children = []\n",
        "\n",
        "  for el in soup.children:\n",
        "    # 跳过空行\n",
        "        if not el.name:\n",
        "            continue\n",
        "\n",
        "        # <p> 转 paragraph 块\n",
        "        if el.name == \"p\":\n",
        "            text = el.get_text(separator=\" \").strip()\n",
        "            if text:\n",
        "                children.append({\n",
        "                    \"object\": \"block\",\n",
        "                    \"type\": \"paragraph\",\n",
        "                    \"paragraph\": {\n",
        "                        \"rich_text\": [{\n",
        "                            \"type\": \"text\",\n",
        "                            \"text\": {\"content\": text}\n",
        "                        }]\n",
        "                    }\n",
        "                })\n",
        "\n",
        "        # <pre> 转 code 块\n",
        "        elif el.name == \"pre\":\n",
        "            code_text = el.get_text().strip()\n",
        "            if code_text:\n",
        "                children.append({\n",
        "                    \"object\": \"block\",\n",
        "                    \"type\": \"code\",\n",
        "                    \"code\": {\n",
        "                        \"language\": \"plain text\",\n",
        "                        \"rich_text\": [{\n",
        "                            \"type\": \"text\",\n",
        "                            \"text\": {\"content\": code_text}\n",
        "                        }]\n",
        "                    }\n",
        "                })\n",
        "\n",
        "        # <ul> → bulleted_list_item 块\n",
        "        elif el.name == \"ul\":\n",
        "            for li in el.find_all(\"li\"):\n",
        "                li_text = li.get_text().strip()\n",
        "                if li_text:\n",
        "                    children.append({\n",
        "                        \"object\": \"block\",\n",
        "                        \"type\": \"bulleted_list_item\",\n",
        "                        \"bulleted_list_item\": {\n",
        "                            \"rich_text\": [{\n",
        "                                \"type\": \"text\",\n",
        "                                \"text\": {\"content\": li_text}\n",
        "                            }]\n",
        "                        }\n",
        "                    })\n",
        "\n",
        "        # <ol> → numbered_list_item 块\n",
        "        elif el.name == \"ol\":\n",
        "            for li in el.find_all(\"li\"):\n",
        "                li_text = li.get_text().strip()\n",
        "                if li_text:\n",
        "                    children.append({\n",
        "                        \"object\": \"block\",\n",
        "                        \"type\": \"numbered_list_item\",\n",
        "                        \"numbered_list_item\": {\n",
        "                            \"rich_text\": [{\n",
        "                                \"type\": \"text\",\n",
        "                                \"text\": {\"content\": li_text}\n",
        "                            }]\n",
        "                        }\n",
        "                    })\n",
        "\n",
        "        # <h2> → heading_2 块\n",
        "        elif el.name == \"h2\":\n",
        "            heading = el.get_text().strip()\n",
        "            if heading:\n",
        "                children.append({\n",
        "                    \"object\": \"block\",\n",
        "                    \"type\": \"heading_2\",\n",
        "                    \"heading_2\": {\n",
        "                        \"rich_text\": [{\n",
        "                            \"type\": \"text\",\n",
        "                            \"text\": {\"content\": heading}\n",
        "                        }]\n",
        "                    }\n",
        "                })\n",
        "  return children"
      ],
      "metadata": {
        "id": "JbtlX_dFo5zh"
      },
      "execution_count": null,
      "outputs": []
    },
    {
      "cell_type": "markdown",
      "source": [
        "# 四、写入Notion"
      ],
      "metadata": {
        "id": "ZvjlRWVxbdLI"
      }
    },
    {
      "cell_type": "code",
      "source": [
        "def add_to_notion(info):\n",
        "    # 查询是否存在\n",
        "    result = notion.databases.query(\n",
        "        database_id = DATABASE_ID,\n",
        "        filter={\n",
        "            \"property\": \"Number\",\n",
        "            \"number\":{\n",
        "                \"equals\": info[\"number\"]\n",
        "            }\n",
        "        }\n",
        "    )\n",
        "    today = datetime.now().strftime(\"%Y-%m-%d\")\n",
        "\n",
        "    # 弹出Importance\n",
        "    importance = input(\"Importance（必背/重点/普通）: \").strip()\n",
        "    importance = importance if importance else None\n",
        "    # 弹出review\n",
        "    review = input(\"Review状态（need review/first pass/second pass/third pass+）: \").strip()\n",
        "    review = review if review else None\n",
        "    # 弹出comments\n",
        "    comments_input = input(\"请输入你的Comments > \").strip()\n",
        "    comments = None\n",
        "    if comments_input:\n",
        "      comments = {\n",
        "          \"rich_text\": [\n",
        "              {\"text\": {\"content\": comments_input}}\n",
        "          ]\n",
        "      }\n",
        "\n",
        "    # 完整props\n",
        "    props = {\n",
        "        \"Problem Name\": {\n",
        "            \"title\": [{\"text\": {\"content\": info['name']}}]\n",
        "        },\n",
        "        \"Number\": {\"number\": info['number']},\n",
        "        \"Link\": {\"url\": info['url']},\n",
        "        \"Difficulty\": {\"select\": {\"name\": info['difficulty']}},\n",
        "        \"Topic\": {\"multi_select\": [{\"name\": tag} for tag in info[\"tags\"]]},\n",
        "        \"Importance\": {\"select\": {\"name\": importance}} if importance else None,\n",
        "        \"Review\": {\"status\": {\"name\": review}} if review else None,\n",
        "        \"Comments\": comments\n",
        "    }\n",
        "    props = {k: v for k, v in props.items() if v is not None}\n",
        "\n",
        "    # 已存在则只更新部分props\n",
        "    update_props = {\n",
        "        \"Importance\": {\"select\": {\"name\": importance}} if importance else None,\n",
        "        \"Review\": {\"status\": {\"name\": review}} if review else None,\n",
        "        \"Comments\": comments\n",
        "    }\n",
        "    update_props = {k: v for k, v in update_props.items() if v is not None}\n",
        "\n",
        "    # 页面内部内容块\n",
        "    children = [\n",
        "      {\n",
        "        \"object\": \"block\",\n",
        "        \"type\": \"heading_2\",\n",
        "        \"heading_2\": {\n",
        "            \"rich_text\": [{\"text\": {\"content\": \"📄 题目描述\"}}]\n",
        "        }\n",
        "      }\n",
        "    ] + html_to_notion_blocks(info['description'])\n",
        "\n",
        "    # 分支执行\n",
        "    if result[\"results\"]:\n",
        "        page_id = result[\"results\"][0][\"id\"]\n",
        "        notion.pages.update(\n",
        "            page_id=page_id,\n",
        "            properties=update_props\n",
        "        )\n",
        "        print(f\"✅ 已存在，已更新 Review → {info['name']}\")\n",
        "    else:\n",
        "        notion.pages.create(\n",
        "            parent={\"database_id\": DATABASE_ID},\n",
        "            properties=props,\n",
        "            children=children\n",
        "        )\n",
        "        print(f\"✅ 首次刷题，已新建 → {info['name']}\")"
      ],
      "metadata": {
        "id": "HjgLx3JFbbBZ"
      },
      "execution_count": null,
      "outputs": []
    },
    {
      "cell_type": "markdown",
      "source": [
        "# 五、手动输入Url"
      ],
      "metadata": {
        "id": "rNo3Ea-Qbm3U"
      }
    },
    {
      "cell_type": "code",
      "source": [
        "url = input(\"✍️ 请输入要同步到Notion的LeetCode中文站URL:\\n例如:https://leetcode.cn/problems/two-sum/description/\\n>\")\n",
        "info = extract_leetcode_info_cn(url)\n",
        "print(\"\\n✅ 抓取结果:\")\n",
        "print(json.dumps(info, indent=2, ensure_ascii=False))\n",
        "\n",
        "# 写入Notion\n",
        "add_to_notion(info)\n",
        "print(\"✅ 已成功写入 Notion!\")"
      ],
      "metadata": {
        "id": "9nPOGUX02_f7"
      },
      "execution_count": null,
      "outputs": []
    }
  ]
}
